{
 "cells": [
  {
   "cell_type": "code",
   "execution_count": 91,
   "id": "8807734f-a7be-46f1-950c-f6f15655c4f1",
   "metadata": {},
   "outputs": [],
   "source": [
    "import requests\n",
    "import datetime\n",
    "import json\n",
    "import gzip\n",
    "import pandas as pd\n",
    "import numpy as np\n",
    "import os\n",
    "import time\n",
    "import logging\n",
    "import tempfile\n",
    "from pyspark.sql import DataFrame\n",
    "from pyspark.sql import Window\n",
    "from IPython.core.display import HTML\n",
    "from pyspark.sql import SparkSession, Row\n",
    "from pyspark.sql.types import StructType, StructField, StringType, DecimalType, IntegerType\n",
    "from pyspark.sql import Window\n",
    "from pyspark.sql.functions import row_number, col, sum, md5, when, to_timestamp, substring, to_date, trim\n",
    "from datetime import datetime\n",
    "from bs4 import BeautifulSoup\n",
    "from io import StringIO"
   ]
  },
  {
   "cell_type": "code",
   "execution_count": 20,
   "id": "9f53256a-f636-4059-bfa5-5efe5b6b78b8",
   "metadata": {},
   "outputs": [
    {
     "data": {
      "text/html": [
       "<style>pre { white-space: pre !important; }</style>"
      ],
      "text/plain": [
       "<IPython.core.display.HTML object>"
      ]
     },
     "metadata": {},
     "output_type": "display_data"
    }
   ],
   "source": [
    "display(HTML('<style>pre { white-space: pre !important; }</style>'))"
   ]
  },
  {
   "cell_type": "code",
   "execution_count": 2,
   "id": "1ca3a802-3041-4d86-8317-cef55a763662",
   "metadata": {},
   "outputs": [],
   "source": [
    "spark = SparkSession.builder.master('local[*]').appName('weather_etl').getOrCreate()\n",
    "sc = spark.sparkContext"
   ]
  },
  {
   "cell_type": "code",
   "execution_count": 3,
   "id": "107cae22-4bb2-4d38-85c8-61141d951996",
   "metadata": {},
   "outputs": [],
   "source": [
    "# Definimos el url de la web de conagua y un header con una identificación del navegador para evitar problemas de acceso\n",
    "url = 'https://smn.conagua.gob.mx/tools/GUI/webservices/?method=1'\n",
    "header = {'User-Agent': 'Mozilla/5.0 (iPad; CPU OS 12_2 like Mac OS X) AppleWebKit/605.1.15 \\\n",
    "          (KHTML, like Gecko) Mobile/15E148'}\n",
    "ruta_logs = '/home/jovyan/logs'"
   ]
  },
  {
   "cell_type": "code",
   "execution_count": 4,
   "id": "f7707263-5247-4dff-83de-ca9ef4d92058",
   "metadata": {},
   "outputs": [],
   "source": [
    "# Configuramos la ruta de guardado, el formato del log y con el modo de guardado en concatenación\n",
    "logging.basicConfig(filename = f'{ruta_logs}logs.log',format = '%(asctime)s %(message)s',filemode = 'a')\n",
    "logger_scraping = logging.getLogger()  "
   ]
  },
  {
   "cell_type": "code",
   "execution_count": 87,
   "id": "b869eaa1-653f-4169-b6dc-dba983a0776b",
   "metadata": {},
   "outputs": [],
   "source": [
    "def scrapData(url: str, headers: dict) -> str:\n",
    "    compressed_scrapped_data = requests.get(url=url, headers=headers).content \n",
    "    return gzip.decompress(compressed_scrapped_data).decode('utf-8')\n",
    "\n",
    "def stringToDF(data: str) -> DataFrame:\n",
    "    data_list = [data]\n",
    "    data_rdd = sc.parallelize(data_list)\n",
    "    return spark.read.json(data_rdd)"
   ]
  },
  {
   "cell_type": "code",
   "execution_count": 81,
   "id": "033d4ad5-3d6e-4250-8573-b91760b5d614",
   "metadata": {},
   "outputs": [],
   "source": [
    "def formatCols(dataframe: DataFrame) -> DataFrame:\n",
    "    dataframe = (\n",
    "        dataframe.select(\n",
    "            col('cc').cast(DecimalType(6,2)).alias('cloud_cover_per'),\n",
    "            col('desciel').alias('sky_desc'),\n",
    "            col('dh').cast(IntegerType()).alias('utc_time_dif_number'),\n",
    "            col('dirvieng').cast(DecimalType(5,1)).alias('wind_dir_degrees_number'),\n",
    "            to_date(substring(col('dloc'), 0, 8), 'yyyyMMdd').alias('local_day_date'),\n",
    "            col('ides').cast(IntegerType()).alias('state_id'),\n",
    "            col('idmun').cast(IntegerType()).alias('municipality_id'),\n",
    "            col('lat').cast(DecimalType(8,4)).alias('latitude_number'),\n",
    "            col('lon').cast(DecimalType(8,4)).alias('longitude_number'),\n",
    "            col('ndia').cast(IntegerType()).alias('day_number'),\n",
    "            col('nes').alias('state_name'),\n",
    "            col('nmun').alias('municipality_name'),\n",
    "            col('prec').cast(DecimalType(10,1)).alias('precipitation_number'),\n",
    "            col('probprec').cast(DecimalType(6,2)).alias('precipitation_prob_number'),\n",
    "            col('raf').cast(DecimalType(14,1)),\n",
    "            col('tmax').cast(DecimalType(6,1)).alias('max_temperature_number'),\n",
    "            col('tmin').cast(DecimalType(6,1)).alias('min_temperature_number'),\n",
    "            col('velvien').cast(DecimalType(10,1)).alias('wind_speed_number')  \n",
    "        )\n",
    "    )\n",
    "    return dataframe"
   ]
  },
  {
   "cell_type": "code",
   "execution_count": null,
   "id": "bcc4fc2f-0474-43af-b562-7d53653f73b6",
   "metadata": {},
   "outputs": [],
   "source": [
    "def removeDuplicates(dataframe: DataFrame) -> DataFrame:\n",
    "    columns = dataframe.columns\n",
    "    w = Window.partitionBy(columns)"
   ]
  },
  {
   "cell_type": "code",
   "execution_count": 88,
   "id": "eceef285-f12e-4710-a219-f5f4b381a12a",
   "metadata": {},
   "outputs": [],
   "source": [
    "scrapped_weather_data = scrapData(url, header)\n",
    "df_weather = stringToDF(scrapped_weather_data)"
   ]
  },
  {
   "cell_type": "code",
   "execution_count": 83,
   "id": "0ff45d68-562f-4ef7-b98f-30be597b8c26",
   "metadata": {
    "scrolled": true
   },
   "outputs": [],
   "source": [
    "df_weather = formatCols(df_weather)"
   ]
  },
  {
   "cell_type": "code",
   "execution_count": 84,
   "id": "797b9f04-6081-467b-b80a-bcf56325e033",
   "metadata": {},
   "outputs": [
    {
     "name": "stdout",
     "output_type": "stream",
     "text": [
      "+---------------+-------------+-------------------+-----------------------+--------------+--------+---------------+---------------+----------------+----------+----------+-------------------+--------------------+-------------------------+----+----------------------+----------------------+-----------------+\n",
      "|cloud_cover_per|sky_desc     |utc_time_dif_number|wind_dir_degrees_number|local_day_date|state_id|municipality_id|latitude_number|longitude_number|day_number|state_name|municipality_name  |precipitation_number|precipitation_prob_number|raf |max_temperature_number|min_temperature_number|wind_speed_number|\n",
      "+---------------+-------------+-------------------+-----------------------+--------------+--------+---------------+---------------+----------------+----------+----------+-------------------+--------------------+-------------------------+----+----------------------+----------------------+-----------------+\n",
      "|78.96          |Cielo nublado|6                  |45.0                   |2024-07-12    |20      |54             |17.3884        |-97.2290        |0         |Oaxaca    |Magdalena Zahuatlán|2.8                 |0.00                     |22.0|22.5                  |12.6                  |10.6             |\n",
      "|86.18          |Cielo nublado|6                  |45.0                   |2024-07-13    |20      |54             |17.3884        |-97.2290        |1         |Oaxaca    |Magdalena Zahuatlán|1.0                 |0.00                     |24.2|21.9                  |10.7                  |11.7             |\n",
      "|78.79          |Medio nublado|6                  |45.0                   |2024-07-14    |20      |54             |17.3884        |-97.2290        |2         |Oaxaca    |Magdalena Zahuatlán|1.1                 |0.00                     |23.4|22.8                  |11.3                  |11.7             |\n",
      "+---------------+-------------+-------------------+-----------------------+--------------+--------+---------------+---------------+----------------+----------+----------+-------------------+--------------------+-------------------------+----+----------------------+----------------------+-----------------+\n",
      "only showing top 3 rows\n",
      "\n"
     ]
    }
   ],
   "source": [
    "df_weather.show(3, False)"
   ]
  },
  {
   "cell_type": "code",
   "execution_count": null,
   "id": "8d3d71e1-cecb-452c-88ca-d068ff0d46c3",
   "metadata": {},
   "outputs": [],
   "source": []
  }
 ],
 "metadata": {
  "kernelspec": {
   "display_name": "Python 3 (ipykernel)",
   "language": "python",
   "name": "python3"
  },
  "language_info": {
   "codemirror_mode": {
    "name": "ipython",
    "version": 3
   },
   "file_extension": ".py",
   "mimetype": "text/x-python",
   "name": "python",
   "nbconvert_exporter": "python",
   "pygments_lexer": "ipython3",
   "version": "3.11.6"
  }
 },
 "nbformat": 4,
 "nbformat_minor": 5
}
