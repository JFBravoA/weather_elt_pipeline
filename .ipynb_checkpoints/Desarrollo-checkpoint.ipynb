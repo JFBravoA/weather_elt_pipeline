{
 "cells": [
  {
   "cell_type": "code",
   "execution_count": 1,
   "id": "8807734f-a7be-46f1-950c-f6f15655c4f1",
   "metadata": {},
   "outputs": [],
   "source": [
    "import requests\n",
    "import datetime\n",
    "import json\n",
    "import gzip\n",
    "import pandas as pd\n",
    "import numpy as np\n",
    "import os\n",
    "import time\n",
    "import logging\n",
    "import tempfile\n",
    "from pyspark.sql import DataFrame\n",
    "from pyspark.sql import Window\n",
    "from IPython.core.display import HTML\n",
    "from pyspark.sql import SparkSession, Row\n",
    "from pyspark.sql.types import StructType, StructField, StringType, DecimalType, IntegerType\n",
    "from pyspark.sql import Window\n",
    "from pyspark.sql.functions import row_number, col, sum, md5, when, to_timestamp, substring, to_date, trim\n",
    "from datetime import datetime\n",
    "from bs4 import BeautifulSoup\n",
    "from io import StringIO"
   ]
  },
  {
   "cell_type": "code",
   "execution_count": 2,
   "id": "9f53256a-f636-4059-bfa5-5efe5b6b78b8",
   "metadata": {},
   "outputs": [
    {
     "data": {
      "text/html": [
       "<style>pre { white-space: pre !important; }</style>"
      ],
      "text/plain": [
       "<IPython.core.display.HTML object>"
      ]
     },
     "metadata": {},
     "output_type": "display_data"
    }
   ],
   "source": [
    "display(HTML('<style>pre { white-space: pre !important; }</style>'))"
   ]
  },
  {
   "cell_type": "code",
   "execution_count": 3,
   "id": "1ca3a802-3041-4d86-8317-cef55a763662",
   "metadata": {},
   "outputs": [],
   "source": [
    "spark = SparkSession.builder.master('local[*]').appName('weather_etl').getOrCreate()\n",
    "sc = spark.sparkContext"
   ]
  },
  {
   "cell_type": "code",
   "execution_count": 4,
   "id": "107cae22-4bb2-4d38-85c8-61141d951996",
   "metadata": {},
   "outputs": [],
   "source": [
    "# Definimos el url de la web de conagua y un header con una identificación del navegador para evitar problemas de acceso\n",
    "url = 'https://smn.conagua.gob.mx/tools/GUI/webservices/?method=1'\n",
    "header = {'User-Agent': 'Mozilla/5.0 (iPad; CPU OS 12_2 like Mac OS X) AppleWebKit/605.1.15 \\\n",
    "          (KHTML, like Gecko) Mobile/15E148'}\n",
    "ruta_logs = '/home/jovyan/logs'"
   ]
  },
  {
   "cell_type": "code",
   "execution_count": 5,
   "id": "f7707263-5247-4dff-83de-ca9ef4d92058",
   "metadata": {},
   "outputs": [],
   "source": [
    "# Configuramos la ruta de guardado, el formato del log y con el modo de guardado en concatenación\n",
    "logging.basicConfig(filename = f'{ruta_logs}logs.log',format = '%(asctime)s %(message)s',filemode = 'a')\n",
    "logger_scraping = logging.getLogger()  "
   ]
  },
  {
   "cell_type": "code",
   "execution_count": 16,
   "id": "b869eaa1-653f-4169-b6dc-dba983a0776b",
   "metadata": {},
   "outputs": [],
   "source": [
    "def scrapData(url: str, headers: dict) -> str:\n",
    "    response = requests.get(url, headers=headers)\n",
    "    response.raise_for_status()\n",
    "    compressed_scrapped_data = response.content \n",
    "    return gzip.decompress(compressed_scrapped_data).decode('utf-8')\n",
    "\n",
    "def stringToDF(data: str) -> DataFrame:\n",
    "    data_rdd = sc.parallelize([data])\n",
    "    return spark.read.json(data_rdd)\n",
    "\n",
    "def formatCols(dataframe: DataFrame) -> DataFrame:\n",
    "    return dataframe.select(\n",
    "        col('cc').cast(DecimalType(6,2)).alias('cloud_cover_per'),\n",
    "        col('desciel').alias('sky_desc'),\n",
    "        col('dh').cast(IntegerType()).alias('utc_time_dif_number'),\n",
    "        col('dirvieng').cast(DecimalType(5,1)).alias('wind_dir_degrees_number'),\n",
    "        to_date(substring(col('dloc'), 0, 8), 'yyyyMMdd').alias('local_day_date'),\n",
    "        col('ides').cast(IntegerType()).alias('state_id'),\n",
    "        col('idmun').cast(IntegerType()).alias('municipality_id'),\n",
    "        col('lat').cast(DecimalType(8,4)).alias('latitude_number'),\n",
    "        col('lon').cast(DecimalType(8,4)).alias('longitude_number'),\n",
    "        col('ndia').cast(IntegerType()).alias('day_number'),\n",
    "        col('nes').alias('state_name'),\n",
    "        col('nmun').alias('municipality_name'),\n",
    "        col('prec').cast(DecimalType(10,1)).alias('precipitation_number'),\n",
    "        col('probprec').cast(DecimalType(6,2)).alias('precipitation_prob_number'),\n",
    "        col('raf').cast(DecimalType(14,1)),\n",
    "        col('tmax').cast(DecimalType(6,1)).alias('max_temperature_number'),\n",
    "        col('tmin').cast(DecimalType(6,1)).alias('min_temperature_number'),\n",
    "        col('velvien').cast(DecimalType(10,1)).alias('wind_speed_number')\n",
    "    )\n",
    "\n",
    "\n",
    "def trimCols(dataframe: DataFrame) -> DataFrame:\n",
    "    return dataframe.select([trim(col(column)).alias(column)\n",
    "                             for column in dataframe.columns])\n"
   ]
  },
  {
   "cell_type": "code",
   "execution_count": 24,
   "id": "eceef285-f12e-4710-a219-f5f4b381a12a",
   "metadata": {},
   "outputs": [],
   "source": [
    "scrapped_weather_data = scrapData(url, header)\n",
    "df_weather = stringToDF(scrapped_weather_data)\n",
    "df_weather = formatCols(df_weather)\n",
    "df_weather = trimCols(df_weather)\n",
    "df_weather = df_weather.dropDuplicates().orderBy(col('state_id').desc(), col('municipality_id').desc(), col('local_day_date').desc())"
   ]
  },
  {
   "cell_type": "code",
   "execution_count": 25,
   "id": "8d3d71e1-cecb-452c-88ca-d068ff0d46c3",
   "metadata": {},
   "outputs": [
    {
     "name": "stdout",
     "output_type": "stream",
     "text": [
      "+---------------+-------------+-------------------+-----------------------+--------------+--------+---------------+---------------+----------------+----------+----------------+----------------------+--------------------+-------------------------+----+----------------------+----------------------+-----------------+\n",
      "|cloud_cover_per|sky_desc     |utc_time_dif_number|wind_dir_degrees_number|local_day_date|state_id|municipality_id|latitude_number|longitude_number|day_number|state_name      |municipality_name     |precipitation_number|precipitation_prob_number|raf |max_temperature_number|min_temperature_number|wind_speed_number|\n",
      "+---------------+-------------+-------------------+-----------------------+--------------+--------+---------------+---------------+----------------+----------+----------------+----------------------+--------------------+-------------------------+----+----------------------+----------------------+-----------------+\n",
      "|75.58          |Cielo nublado|6                  |0.0                    |2024-07-22    |9       |9              |19.1912        |-99.0234        |3         |Ciudad de México|Milpa Alta            |13.3                |90.00                    |10.9|21.6                  |12.8                  |3.2              |\n",
      "|89.72          |Cielo nublado|6                  |135.0                  |2024-07-21    |9       |9              |19.1912        |-99.0234        |2         |Ciudad de México|Milpa Alta            |23.2                |90.00                    |12.2|21.8                  |13.2                  |3.3              |\n",
      "|83.76          |Cielo nublado|6                  |0.0                    |2024-07-20    |9       |9              |19.1912        |-99.0234        |1         |Ciudad de México|Milpa Alta            |10.6                |75.00                    |14.1|22.3                  |13.2                  |3.9              |\n",
      "|75.13          |Cielo nublado|6                  |135.0                  |2024-07-19    |9       |9              |19.1912        |-99.0234        |0         |Ciudad de México|Milpa Alta            |12.4                |90.00                    |11.6|20.1                  |13.3                  |2.5              |\n",
      "|87.40          |Cielo nublado|6                  |45.0                   |2024-07-22    |9       |8              |19.3049        |-99.2415        |3         |Ciudad de México|La Magdalena Contreras|13.4                |90.00                    |13.0|19.6                  |11.2                  |4.6              |\n",
      "+---------------+-------------+-------------------+-----------------------+--------------+--------+---------------+---------------+----------------+----------+----------------+----------------------+--------------------+-------------------------+----+----------------------+----------------------+-----------------+\n",
      "only showing top 5 rows\n",
      "\n"
     ]
    }
   ],
   "source": [
    "df_weather.show(5, False)"
   ]
  },
  {
   "cell_type": "code",
   "execution_count": null,
   "id": "b67912cb-24df-4c16-9392-61d877fd3922",
   "metadata": {},
   "outputs": [],
   "source": []
  }
 ],
 "metadata": {
  "kernelspec": {
   "display_name": "Python 3 (ipykernel)",
   "language": "python",
   "name": "python3"
  },
  "language_info": {
   "codemirror_mode": {
    "name": "ipython",
    "version": 3
   },
   "file_extension": ".py",
   "mimetype": "text/x-python",
   "name": "python",
   "nbconvert_exporter": "python",
   "pygments_lexer": "ipython3",
   "version": "3.11.6"
  }
 },
 "nbformat": 4,
 "nbformat_minor": 5
}
